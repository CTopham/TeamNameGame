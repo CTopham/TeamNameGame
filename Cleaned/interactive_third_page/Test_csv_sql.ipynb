{
 "cells": [
  {
   "cell_type": "code",
   "execution_count": 1,
   "metadata": {
    "collapsed": true
   },
   "outputs": [],
   "source": [
    "#Needed???\n",
    "!rm babies.sqlite\n",
    "\n",
    "# Dependencies\n",
    "import pandas as pd\n",
    "import numpy as np\n",
    "import os\n",
    "\n",
    "\n"
   ]
  },
  {
   "cell_type": "code",
   "execution_count": 2,
   "metadata": {
    "collapsed": true
   },
   "outputs": [],
   "source": [
    "csvfile = \"../SSA_Baby_names_2.csv\""
   ]
  },
  {
   "cell_type": "code",
   "execution_count": 3,
   "metadata": {
    "collapsed": true
   },
   "outputs": [],
   "source": [
    "# Read CSV file into a pandas DataFrame\n",
    "df = pd.read_csv(csvfile, dtype=object)"
   ]
  },
  {
   "cell_type": "code",
   "execution_count": 4,
   "metadata": {},
   "outputs": [
    {
     "data": {
      "text/html": [
       "<div>\n",
       "<style>\n",
       "    .dataframe thead tr:only-child th {\n",
       "        text-align: right;\n",
       "    }\n",
       "\n",
       "    .dataframe thead th {\n",
       "        text-align: left;\n",
       "    }\n",
       "\n",
       "    .dataframe tbody tr th {\n",
       "        vertical-align: top;\n",
       "    }\n",
       "</style>\n",
       "<table border=\"1\" class=\"dataframe\">\n",
       "  <thead>\n",
       "    <tr style=\"text-align: right;\">\n",
       "      <th></th>\n",
       "      <th>id</th>\n",
       "      <th>Decade</th>\n",
       "      <th>Males</th>\n",
       "      <th>num_boys</th>\n",
       "      <th>Females</th>\n",
       "      <th>num_girls</th>\n",
       "    </tr>\n",
       "  </thead>\n",
       "  <tbody>\n",
       "    <tr>\n",
       "      <th>0</th>\n",
       "      <td>1</td>\n",
       "      <td>1880</td>\n",
       "      <td>John</td>\n",
       "      <td>89,950</td>\n",
       "      <td>Mary</td>\n",
       "      <td>91,668</td>\n",
       "    </tr>\n",
       "    <tr>\n",
       "      <th>1</th>\n",
       "      <td>2</td>\n",
       "      <td>1880</td>\n",
       "      <td>William</td>\n",
       "      <td>84,881</td>\n",
       "      <td>Anna</td>\n",
       "      <td>38,159</td>\n",
       "    </tr>\n",
       "    <tr>\n",
       "      <th>2</th>\n",
       "      <td>3</td>\n",
       "      <td>1880</td>\n",
       "      <td>James</td>\n",
       "      <td>54,056</td>\n",
       "      <td>Emma</td>\n",
       "      <td>25,404</td>\n",
       "    </tr>\n",
       "    <tr>\n",
       "      <th>3</th>\n",
       "      <td>4</td>\n",
       "      <td>1880</td>\n",
       "      <td>George</td>\n",
       "      <td>47,651</td>\n",
       "      <td>Elizabeth</td>\n",
       "      <td>25,006</td>\n",
       "    </tr>\n",
       "    <tr>\n",
       "      <th>4</th>\n",
       "      <td>5</td>\n",
       "      <td>1880</td>\n",
       "      <td>Charles</td>\n",
       "      <td>46,656</td>\n",
       "      <td>Margaret</td>\n",
       "      <td>21,799</td>\n",
       "    </tr>\n",
       "  </tbody>\n",
       "</table>\n",
       "</div>"
      ],
      "text/plain": [
       "  id Decade    Males num_boys    Females num_girls\n",
       "0  1   1880     John   89,950       Mary    91,668\n",
       "1  2   1880  William   84,881       Anna    38,159\n",
       "2  3   1880    James   54,056       Emma    25,404\n",
       "3  4   1880   George   47,651  Elizabeth    25,006\n",
       "4  5   1880  Charles   46,656   Margaret    21,799"
      ]
     },
     "execution_count": 4,
     "metadata": {},
     "output_type": "execute_result"
    }
   ],
   "source": [
    "df.head()"
   ]
  },
  {
   "cell_type": "code",
   "execution_count": 5,
   "metadata": {
    "collapsed": true
   },
   "outputs": [],
   "source": [
    "# Python SQL toolkit and Object Relational Mapper\n",
    "import sqlalchemy\n",
    "from sqlalchemy import create_engine, MetaData\n",
    "from sqlalchemy.ext.declarative import declarative_base\n",
    "from sqlalchemy import Column, Integer, String, Numeric, Text, Float"
   ]
  },
  {
   "cell_type": "code",
   "execution_count": 6,
   "metadata": {
    "collapsed": true
   },
   "outputs": [],
   "source": [
    "# Create an engine to a SQLite database file called `babies.sqlite`\n",
    "engine = create_engine(\"sqlite:///babies.sqlite\")"
   ]
  },
  {
   "cell_type": "code",
   "execution_count": 7,
   "metadata": {
    "collapsed": true
   },
   "outputs": [],
   "source": [
    "# Create a connection to the engine called `conn`\n",
    "conn = engine.connect()"
   ]
  },
  {
   "cell_type": "code",
   "execution_count": 8,
   "metadata": {
    "collapsed": true
   },
   "outputs": [],
   "source": [
    "# Use `declarative_base` from SQLAlchemy to model the demographics table as an ORM class\n",
    "# Make sure to specify types for each column, e.g. Integer, Text, etc.\n",
    "# http://docs.sqlalchemy.org/en/latest/core/type_basics.html\n",
    "Base = declarative_base()\n",
    "\n",
    "class Babies(Base):\n",
    "    __tablename__ = 'babies'\n",
    "\n",
    "    id = Column(Integer, primary_key=True)\n",
    "    Decade = Column(Integer)\n",
    "    Males = Column(Text)\n",
    "    num_boys=Column(Integer)\n",
    "    Females = Column(Text)\n",
    "    num_girls=Column(Integer)\n",
    "   \n",
    "    def __repr__(self):\n",
    "        return f\"id={self.id}, name={self.name}\"\n",
    "    #def __repr__(self):\n",
    "    #    return '<Babies %r>' % (self.name)"
   ]
  },
  {
   "cell_type": "code",
   "execution_count": 9,
   "metadata": {
    "collapsed": true
   },
   "outputs": [],
   "source": [
    "# Use `create_all` to create the babies table in the database\n",
    "Base.metadata.create_all(engine)"
   ]
  },
  {
   "cell_type": "code",
   "execution_count": 10,
   "metadata": {},
   "outputs": [
    {
     "data": {
      "text/plain": [
       "id            int64\n",
       "Decade        int64\n",
       "Males        object\n",
       "num_boys     object\n",
       "Females      object\n",
       "num_girls    object\n",
       "dtype: object"
      ]
     },
     "execution_count": 10,
     "metadata": {},
     "output_type": "execute_result"
    }
   ],
   "source": [
    "# Load the  csv file into a pandas dataframe\n",
    "new_df = pd.read_csv(csvfile)\n",
    "new_df[[\"Decade\"]]=new_df[[\"Decade\"]].apply(pd.to_numeric)\n",
    "new_df.dtypes"
   ]
  },
  {
   "cell_type": "code",
   "execution_count": 11,
   "metadata": {
    "collapsed": true
   },
   "outputs": [],
   "source": [
    "# Use Orient='records' to create a list of data to write\n",
    "# to_dict() cleans out DataFrame metadata as well\n",
    "# http://pandas-docs.github.io/pandas-docs-travis/io.html#orient-options\n",
    "data = new_df.to_dict(orient='records')"
   ]
  },
  {
   "cell_type": "code",
   "execution_count": 12,
   "metadata": {},
   "outputs": [
    {
     "name": "stdout",
     "output_type": "stream",
     "text": [
      "[{'id': 1, 'Decade': 1880, 'Males': 'John', 'num_boys': '89,950', 'Females': 'Mary', 'num_girls': '91,668'}, {'id': 2, 'Decade': 1880, 'Males': 'William', 'num_boys': '84,881', 'Females': 'Anna', 'num_girls': '38,159'}, {'id': 3, 'Decade': 1880, 'Males': 'James', 'num_boys': '54,056', 'Females': 'Emma', 'num_girls': '25,404'}, {'id': 4, 'Decade': 1880, 'Males': 'George', 'num_boys': '47,651', 'Females': 'Elizabeth', 'num_girls': '25,006'}, {'id': 5, 'Decade': 1880, 'Males': 'Charles', 'num_boys': '46,656', 'Females': 'Margaret', 'num_girls': '21,799'}]\n"
     ]
    }
   ],
   "source": [
    "# Data is just a list of dictionaries that represent each row of data\n",
    "print(data[:5])"
   ]
  },
  {
   "cell_type": "code",
   "execution_count": 13,
   "metadata": {
    "collapsed": true
   },
   "outputs": [],
   "source": [
    "# Use MetaData from SQLAlchemy to reflect the tables\n",
    "metadata = MetaData(bind=engine)\n",
    "metadata.reflect()"
   ]
  },
  {
   "cell_type": "code",
   "execution_count": 14,
   "metadata": {
    "collapsed": true
   },
   "outputs": [],
   "source": [
    "# Save the reference to the `babies` table as a variable called `table`\n",
    "table = sqlalchemy.Table('babies', metadata, autoload=True)"
   ]
  },
  {
   "cell_type": "code",
   "execution_count": 15,
   "metadata": {},
   "outputs": [
    {
     "data": {
      "text/plain": [
       "<sqlalchemy.engine.result.ResultProxy at 0x292fc724940>"
      ]
     },
     "execution_count": 15,
     "metadata": {},
     "output_type": "execute_result"
    }
   ],
   "source": [
    "# Use `table.delete()` to remove any pre-existing data.\n",
    "# Note that this is a convenience function so that you can re-run the example code multiple times.\n",
    "# You would not likely do this step in production.\n",
    "conn.execute(table.delete())"
   ]
  },
  {
   "cell_type": "code",
   "execution_count": 16,
   "metadata": {},
   "outputs": [
    {
     "data": {
      "text/plain": [
       "<sqlalchemy.engine.result.ResultProxy at 0x292fc724780>"
      ]
     },
     "execution_count": 16,
     "metadata": {},
     "output_type": "execute_result"
    }
   ],
   "source": [
    "# Use `table.insert()` to insert the data into the table\n",
    "# The SQL table is populated during this step\n",
    "conn.execute(table.insert(), data)"
   ]
  },
  {
   "cell_type": "code",
   "execution_count": 17,
   "metadata": {},
   "outputs": [
    {
     "data": {
      "text/plain": [
       "[(1, 1880, 'John', '89,950', 'Mary', '91,668'),\n",
       " (2, 1880, 'William', '84,881', 'Anna', '38,159'),\n",
       " (3, 1880, 'James', '54,056', 'Emma', '25,404'),\n",
       " (4, 1880, 'George', '47,651', 'Elizabeth', '25,006'),\n",
       " (5, 1880, 'Charles', '46,656', 'Margaret', '21,799')]"
      ]
     },
     "execution_count": 17,
     "metadata": {},
     "output_type": "execute_result"
    }
   ],
   "source": [
    "# Test that the insert works by fetching the first 5 rows. \n",
    "conn.execute(\"select * from babies limit 5\").fetchall()"
   ]
  },
  {
   "cell_type": "code",
   "execution_count": null,
   "metadata": {},
   "outputs": [],
   "source": []
  },
  {
   "cell_type": "code",
   "execution_count": null,
   "metadata": {
    "collapsed": true
   },
   "outputs": [],
   "source": []
  }
 ],
 "metadata": {
  "kernelspec": {
   "display_name": "Python 3",
   "language": "python",
   "name": "python3"
  },
  "language_info": {
   "codemirror_mode": {
    "name": "ipython",
    "version": 3
   },
   "file_extension": ".py",
   "mimetype": "text/x-python",
   "name": "python",
   "nbconvert_exporter": "python",
   "pygments_lexer": "ipython3",
   "version": "3.6.3"
  }
 },
 "nbformat": 4,
 "nbformat_minor": 2
}
